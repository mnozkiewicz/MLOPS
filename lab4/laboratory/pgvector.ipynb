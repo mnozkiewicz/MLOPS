{
 "cells": [
  {
   "cell_type": "markdown",
   "id": "c0634578",
   "metadata": {},
   "source": [
    "#### Create connection string through URL object"
   ]
  },
  {
   "cell_type": "code",
   "execution_count": 1,
   "id": "e86cdc71",
   "metadata": {},
   "outputs": [],
   "source": [
    "from sqlalchemy.engine import URL\n",
    "\n",
    "db_url = URL.create(\n",
    "    drivername=\"postgresql+psycopg\",\n",
    "    username=\"postgres\",\n",
    "    password=\"password\",\n",
    "    host=\"localhost\",\n",
    "    port=5555,\n",
    "    database=\"similarity_search_service_db\"\n",
    ")"
   ]
  },
  {
   "cell_type": "markdown",
   "id": "e64860a4",
   "metadata": {},
   "source": [
    "#### Defining database schema"
   ]
  },
  {
   "cell_type": "code",
   "execution_count": 2,
   "id": "86d4b0cb",
   "metadata": {},
   "outputs": [],
   "source": [
    "from typing import List \n",
    "from pgvector.sqlalchemy import Vector\n",
    "from sqlalchemy import Integer, String\n",
    "from sqlalchemy.orm import DeclarativeBase, Mapped, mapped_column\n",
    "\n",
    "\n",
    "# Create the base class for the table definition\n",
    "class Base(DeclarativeBase):\n",
    "    __abstract__ = True\n",
    "\n",
    "# Create the table definition\n",
    "class Images(Base):\n",
    "    __tablename__ = \"images\"\n",
    "    VECTOR_LENGTH = 512\n",
    "    \n",
    "    id: Mapped[int] = mapped_column(Integer, primary_key=True)\n",
    "    image_path: Mapped[str] = mapped_column(String(256))\n",
    "    image_embedding: Mapped[List[float]] = mapped_column(Vector(VECTOR_LENGTH))"
   ]
  },
  {
   "cell_type": "markdown",
   "id": "3c043bd8",
   "metadata": {},
   "source": [
    "#### Creating tables"
   ]
  },
  {
   "cell_type": "code",
   "execution_count": 3,
   "id": "c99a7c59",
   "metadata": {},
   "outputs": [],
   "source": [
    "from sqlalchemy import create_engine\n",
    "\n",
    "engine = create_engine(db_url)\n",
    "Base.metadata.create_all(engine)"
   ]
  },
  {
   "cell_type": "code",
   "execution_count": 4,
   "id": "f4535fbc",
   "metadata": {},
   "outputs": [
    {
     "name": "stdout",
     "output_type": "stream",
     "text": [
      "['games', 'images']\n"
     ]
    }
   ],
   "source": [
    "from sqlalchemy import inspect\n",
    "\n",
    "inspector = inspect(engine)\n",
    "print(inspector.get_table_names())"
   ]
  },
  {
   "cell_type": "markdown",
   "id": "ee131b8e",
   "metadata": {},
   "source": [
    "#### Inserting 100 random image embeddings"
   ]
  },
  {
   "cell_type": "code",
   "execution_count": 5,
   "id": "6abddacc",
   "metadata": {},
   "outputs": [],
   "source": [
    "import sqlalchemy\n",
    "from sqlalchemy import select\n",
    "from sqlalchemy.orm import Session\n",
    "import numpy as np\n",
    "\n",
    "# reusable function to insert data into the table\n",
    "def insert_image(engine: sqlalchemy.Engine, image_path: str, image_embedding: list[float]):\n",
    "    with Session(engine) as session:\n",
    "        # create the image object\n",
    "        image = Images(\n",
    "            image_path=image_path,\n",
    "            image_embedding=image_embedding\n",
    "        )\n",
    "        # add the image object to the session\n",
    "        session.add(image)\n",
    "        # commit the transaction\n",
    "        session.commit()\n",
    "\n",
    "# insert some data into the table\n",
    "N = 100\n",
    "for i in range(N):\n",
    "    image_path = f\"image_{i}.jpg\"\n",
    "    image_embedding = np.random.rand(512).tolist()\n",
    "    insert_image(engine, image_path, image_embedding)\n",
    "\n",
    "# select first image from the table\n",
    "with Session(engine) as session:\n",
    "    image = session.query(Images).first()"
   ]
  },
  {
   "cell_type": "markdown",
   "id": "19bbba1b",
   "metadata": {},
   "source": [
    "#### K nearest embeddings query (in cosine metric)"
   ]
  },
  {
   "cell_type": "code",
   "execution_count": 6,
   "id": "f69b545c",
   "metadata": {},
   "outputs": [
    {
     "data": {
      "text/plain": [
       "(512,)"
      ]
     },
     "execution_count": 6,
     "metadata": {},
     "output_type": "execute_result"
    }
   ],
   "source": [
    "# calculate the cosine similarity between the first image and the K rest of the images, order the images by the similarity score\n",
    "\n",
    "def find_k_images(engine: sqlalchemy.Engine, k: int, orginal_image: Images) -> list[Images]:\n",
    "    with Session(engine) as session:\n",
    "        # execution_options={\"prebuffer_rows\": True} is used to prebuffer the rows, this is useful when we want to fetch the rows in chunks and return them after session is closed\n",
    "        result = session.execute(\n",
    "            select(Images)\n",
    "            .order_by(Images.image_embedding.cosine_distance(orginal_image.image_embedding))\n",
    "            .limit(k),\n",
    "            execution_options={\"prebuffer_rows\": True}\n",
    "        )\n",
    "        return result\n",
    "\n",
    "# find the 10 most similar images to the first image\n",
    "k = 10\n",
    "similar_images = find_k_images(engine, k, image)\n",
    "example_images,  = similar_images.first()\n",
    "example_images.image_embedding.shape"
   ]
  },
  {
   "cell_type": "markdown",
   "id": "bf20902c",
   "metadata": {},
   "source": [
    "#### Query with filtering"
   ]
  },
  {
   "cell_type": "code",
   "execution_count": 7,
   "id": "815555ab",
   "metadata": {},
   "outputs": [],
   "source": [
    "# find the images with the similarity score greater than 0.9\n",
    "def find_images_with_similarity_score_greater_than(engine: sqlalchemy.Engine, similarity_score: float, orginal_image: Images) -> list[Images]:\n",
    "    with Session(engine) as session:\n",
    "        result = session.execute(\n",
    "            select(Images)\n",
    "            .filter(Images.image_embedding.cosine_distance(orginal_image.image_embedding) > similarity_score), \n",
    "            execution_options={\"prebuffer_rows\": True}\n",
    "        )\n",
    "        return result\n",
    "    \n",
    "filtered_images = find_images_with_similarity_score_greater_than(engine, 0.1, image)"
   ]
  },
  {
   "cell_type": "markdown",
   "id": "2b710192",
   "metadata": {},
   "source": [
    "### Steam Games dataset"
   ]
  },
  {
   "cell_type": "code",
   "execution_count": 8,
   "id": "98ea2203",
   "metadata": {},
   "outputs": [
    {
     "name": "stdout",
     "output_type": "stream",
     "text": [
      "{'AppID': Value('int64'), 'Name': Value('string'), 'Release date': Value('string'), 'Estimated owners': Value('string'), 'Peak CCU': Value('int64'), 'Required age': Value('int64'), 'Price': Value('float64'), 'DLC count': Value('int64'), 'About the game': Value('string'), 'Supported languages': Value('string'), 'Full audio languages': Value('string'), 'Reviews': Value('string'), 'Header image': Value('string'), 'Website': Value('string'), 'Support url': Value('string'), 'Support email': Value('string'), 'Windows': Value('bool'), 'Mac': Value('bool'), 'Linux': Value('bool'), 'Metacritic score': Value('int64'), 'Metacritic url': Value('string'), 'User score': Value('int64'), 'Positive': Value('int64'), 'Negative': Value('int64'), 'Score rank': Value('float64'), 'Achievements': Value('int64'), 'Recommendations': Value('int64'), 'Notes': Value('string'), 'Average playtime forever': Value('int64'), 'Average playtime two weeks': Value('int64'), 'Median playtime forever': Value('int64'), 'Median playtime two weeks': Value('int64'), 'Developers': Value('string'), 'Publishers': Value('string'), 'Categories': Value('string'), 'Genres': Value('string'), 'Tags': Value('string'), 'Screenshots': Value('string'), 'Movies': Value('string')}\n"
     ]
    }
   ],
   "source": [
    "from datasets import load_dataset\n",
    "\n",
    "dataset = load_dataset(\"FronkonGames/steam-games-dataset\")\n",
    "\n",
    "# get columns names and types\n",
    "columns = dataset[\"train\"].features\n",
    "print(columns)\n",
    "\n",
    "columns_to_keep = [\"Name\", \"Windows\", \"Linux\", \"Mac\", \"About the game\", \"Supported languages\", \"Price\"]\n",
    "\n",
    "N = 40000\n",
    "dataset = dataset[\"train\"].select_columns(columns_to_keep).select(range(N))"
   ]
  },
  {
   "cell_type": "code",
   "execution_count": 9,
   "id": "31a2c4dd",
   "metadata": {},
   "outputs": [
    {
     "data": {
      "text/plain": [
       "Dataset({\n",
       "    features: ['Name', 'Windows', 'Linux', 'Mac', 'About the game', 'Supported languages', 'Price'],\n",
       "    num_rows: 40000\n",
       "})"
      ]
     },
     "execution_count": 9,
     "metadata": {},
     "output_type": "execute_result"
    }
   ],
   "source": [
    "dataset"
   ]
  },
  {
   "cell_type": "markdown",
   "id": "8240798a",
   "metadata": {},
   "source": [
    "#### Defining Games table"
   ]
  },
  {
   "cell_type": "code",
   "execution_count": 11,
   "id": "8bf3c576",
   "metadata": {},
   "outputs": [],
   "source": [
    "from sqlalchemy import Integer, Float, Boolean\n",
    "\n",
    "\n",
    "class Games(Base):\n",
    "    __tablename__ = \"games\"\n",
    "    __table_args__ = {'extend_existing': True}\n",
    "    \n",
    "    # the vector size produced by the model taken from documentation https://huggingface.co/sentence-transformers/distiluse-base-multilingual-cased-v2\n",
    "    VECTOR_LENGTH =  512\n",
    "        \n",
    "    id: Mapped[int] = mapped_column(Integer, primary_key=True)\n",
    "    name: Mapped[str] = mapped_column(String(256))\n",
    "    description: Mapped[str] = mapped_column(String(4096))\n",
    "    windows: Mapped[bool] = mapped_column(Boolean)\n",
    "    linux: Mapped[bool] = mapped_column(Boolean)\n",
    "    mac: Mapped[bool] = mapped_column(Boolean)\n",
    "    price: Mapped[float] = mapped_column(Float)\n",
    "    game_description_embedding: Mapped[List[float]] = mapped_column(Vector(VECTOR_LENGTH))\n",
    "\n",
    "Base.metadata.drop_all(engine)\n",
    "Base.metadata.create_all(engine)"
   ]
  },
  {
   "cell_type": "markdown",
   "id": "e399b4a9",
   "metadata": {},
   "source": [
    "#### Loading sentence transformer"
   ]
  },
  {
   "cell_type": "code",
   "execution_count": 12,
   "id": "ca7fb672",
   "metadata": {},
   "outputs": [],
   "source": [
    "from sentence_transformers import SentenceTransformer\n",
    "\n",
    "\n",
    "checkpoint = \"distiluse-base-multilingual-cased-v2\"\n",
    "model = SentenceTransformer(checkpoint)\n",
    "\n",
    "def generate_embeddings(text: str) -> list[float]:\n",
    "    return model.encode(text)"
   ]
  },
  {
   "cell_type": "markdown",
   "id": "64c30c02",
   "metadata": {},
   "source": [
    "#### Inserting games"
   ]
  },
  {
   "cell_type": "code",
   "execution_count": 13,
   "id": "5c1ff6a1",
   "metadata": {},
   "outputs": [
    {
     "name": "stderr",
     "output_type": "stream",
     "text": [
      "100%|██████████| 40000/40000 [06:01<00:00, 110.60it/s]\n"
     ]
    }
   ],
   "source": [
    "from tqdm import tqdm\n",
    "\n",
    "\n",
    "def insert_games(engine, dataset):\n",
    "    with tqdm(total=len(dataset)) as pbar:\n",
    "        for i, game in enumerate(dataset):\n",
    "            game_description = game[\"About the game\"] or \"\"\n",
    "            game_embedding = generate_embeddings(game_description)\n",
    "            name, windows, linux, mac, price = game[\"Name\"], game[\"Windows\"], game[\"Linux\"], game[\"Mac\"], game[\"Price\"]\n",
    "            if name and windows and linux and mac and price and game_description:\n",
    "                game = Games(\n",
    "                    name=game[\"Name\"], \n",
    "                    description=game_description[0:4096],\n",
    "                    windows=game[\"Windows\"], \n",
    "                    linux=game[\"Linux\"], \n",
    "                    mac=game[\"Mac\"], \n",
    "                    price=game[\"Price\"], \n",
    "                    game_description_embedding=game_embedding\n",
    "                )\n",
    "                with Session(engine) as session:\n",
    "                    session.add(game)\n",
    "                    session.commit()\n",
    "            pbar.update(1)\n",
    "\n",
    "insert_games(engine, dataset)"
   ]
  },
  {
   "cell_type": "markdown",
   "id": "9943bf3c",
   "metadata": {},
   "source": [
    "#### Querying database"
   ]
  },
  {
   "cell_type": "code",
   "execution_count": 15,
   "id": "a7056531",
   "metadata": {},
   "outputs": [],
   "source": [
    "from typing import Optional\n",
    "\n",
    "def find_game(\n",
    "    engine: sqlalchemy.Engine, \n",
    "    game_description: str, \n",
    "    windows: Optional[bool] = None, \n",
    "    linux: Optional[bool] = None,\n",
    "    mac: Optional[bool] = None,\n",
    "    price: Optional[int] = None\n",
    "):\n",
    "    with Session(engine) as session:\n",
    "        game_embedding = generate_embeddings(game_description)\n",
    "    \n",
    "        query = (\n",
    "            select(Games)\n",
    "            .order_by(Games.game_description_embedding.cosine_distance(game_embedding))\n",
    "        )\n",
    "        \n",
    "        if price:\n",
    "            query = query.filter(Games.price <= price)\n",
    "        if windows:\n",
    "            query = query.filter(Games.windows == True)\n",
    "        if linux:\n",
    "            query = query.filter(Games.linux == True)\n",
    "        if mac:\n",
    "            query = query.filter(Games.mac == True)\n",
    "        \n",
    "        result = session.execute(query, execution_options={\"prebuffer_rows\": True})\n",
    "        game = result.scalars().first()\n",
    "        \n",
    "        return game"
   ]
  },
  {
   "cell_type": "code",
   "execution_count": 18,
   "id": "4fb0c42d",
   "metadata": {},
   "outputs": [
    {
     "name": "stdout",
     "output_type": "stream",
     "text": [
      "Game: Ultimate Spider Hero\n",
      "Description: Ultimate Spider Hero game was designed for real heroes! Your mission is to help poor residents of the Metropolis and to save them from the terrible monsters. Move forward to fight your enemies and try not to fall! Features: Simple and addictive gameplay Nice graphics Awesome Ultimate Spider Hero Countless Steam achievements for you to collect! Compatibility with multiple major platforms (Windows, Mac, Linux, SteamOS) Make your way through the endless labyrinths of long, confusing city streets together with your favorite hero from countless movies and cartoons! Although this may look simple enough, things are not as easy as they seem. You will have to learn how to cling into houses properly using your web, otherwise you will fall to your demise. If you manage to do so - you will become a real superhero, armed with elusiveness, agility and speed and the ability to tirelessly swing across the rooftops and between the huge skyscrapers this urban landscape has to offer in this thrilling game of a super spider. It's fun, the visuals are magnificent and the controls are simple!\n",
      "Game: 3D PUZZLE - Modern House\n",
      "Description: Collect a 3D puzzle, transferring things to the right places to create a beautiful house. You need to go to the item, take it by pressing the left mouse button and take the item to the desired location marked in green. If you brought the correct item, it will snap into place and you will receive leaderboard points and achievements for this. Collect as much substance as possible as quickly as possible to get more points for the leaderboard. If you brought the wrong item, you can throw it away, it will return to the starting location so that you can pick it up again.\n",
      "Game: 3D PUZZLE - Old House\n",
      "Description: Collect a 3D puzzle, transferring things to the right places to create a beautiful house. You need to go to the item, take it by pressing the left mouse button and take the item to the desired location marked in green. If you brought the correct item, it will snap into place and you will receive leaderboard points and achievements for this. Collect as much substance as possible as quickly as possible to get more points for the leaderboard. If you brought the wrong item, you can throw it away, it will return to the starting location so that you can pick it up again.\n"
     ]
    }
   ],
   "source": [
    "game = find_game(engine, \"This is a game about a hero who saves the world\", price=10)\n",
    "print(f\"Game: {game.name}\")\n",
    "print(f\"Description: {game.description}\")\n",
    "\n",
    "game = find_game(engine, game_description=\"Home decorating\", price=20)\n",
    "print(f\"Game: {game.name}\")\n",
    "print(f\"Description: {game.description}\")\n",
    "\n",
    "game = find_game(engine, game_description=\"Home decorating\", mac=True, price=5)\n",
    "print(f\"Game: {game.name}\")\n",
    "print(f\"Description: {game.description}\")"
   ]
  }
 ],
 "metadata": {
  "kernelspec": {
   "display_name": "mlops-course-agh-lab-04 (3.12.8)",
   "language": "python",
   "name": "python3"
  },
  "language_info": {
   "codemirror_mode": {
    "name": "ipython",
    "version": 3
   },
   "file_extension": ".py",
   "mimetype": "text/x-python",
   "name": "python",
   "nbconvert_exporter": "python",
   "pygments_lexer": "ipython3",
   "version": "3.12.8"
  }
 },
 "nbformat": 4,
 "nbformat_minor": 5
}
