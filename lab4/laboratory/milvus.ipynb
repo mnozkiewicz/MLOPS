{
 "cells": [
  {
   "cell_type": "markdown",
   "id": "c75eab08",
   "metadata": {},
   "source": [
    "#### Connecting to milvus"
   ]
  },
  {
   "cell_type": "code",
   "execution_count": 1,
   "id": "59ebfa9f",
   "metadata": {},
   "outputs": [],
   "source": [
    "from pymilvus import MilvusClient\n",
    "\n",
    "host = \"localhost\"\n",
    "port = \"19530\"\n",
    "\n",
    "milvus_client = MilvusClient(\n",
    "    host=host,\n",
    "    port=port\n",
    ")"
   ]
  },
  {
   "cell_type": "markdown",
   "id": "10ae7d7d",
   "metadata": {},
   "source": [
    "#### Creating CollectionSchema"
   ]
  },
  {
   "cell_type": "code",
   "execution_count": 2,
   "id": "3513caae",
   "metadata": {},
   "outputs": [],
   "source": [
    "from pymilvus import FieldSchema, DataType, CollectionSchema\n",
    "\n",
    "VECTOR_LENGTH = 768  # check the dimensionality for Silver Retriever Base (v1.1) model\n",
    "\n",
    "id_field = FieldSchema(name=\"id\", dtype=DataType.INT64, is_primary=True, description=\"Primary id\")\n",
    "text = FieldSchema(name=\"text\", dtype=DataType.VARCHAR, max_length=4096, description=\"Page text\")\n",
    "embedding_text = FieldSchema(name=\"embedding\", dtype=DataType.FLOAT_VECTOR, dim=VECTOR_LENGTH, description=\"Embedded text\")\n",
    "\n",
    "fields = [id_field, text, embedding_text]\n",
    "\n",
    "schema = CollectionSchema(fields=fields, auto_id=True, enable_dynamic_field=True, description=\"RAG Texts collection\")"
   ]
  },
  {
   "cell_type": "markdown",
   "id": "5e759d97",
   "metadata": {},
   "source": [
    "#### Creating collection and index"
   ]
  },
  {
   "cell_type": "code",
   "execution_count": 3,
   "id": "0963165c",
   "metadata": {},
   "outputs": [
    {
     "name": "stdout",
     "output_type": "stream",
     "text": [
      "['rag_texts_and_embeddings']\n",
      "{'collection_name': 'rag_texts_and_embeddings', 'auto_id': True, 'num_shards': 1, 'description': 'RAG Texts collection', 'fields': [{'field_id': 100, 'name': 'id', 'description': 'Primary id', 'type': <DataType.INT64: 5>, 'params': {}, 'auto_id': True, 'is_primary': True}, {'field_id': 101, 'name': 'text', 'description': 'Page text', 'type': <DataType.VARCHAR: 21>, 'params': {'max_length': 4096}}, {'field_id': 102, 'name': 'embedding', 'description': 'Embedded text', 'type': <DataType.FLOAT_VECTOR: 101>, 'params': {'dim': 768}}], 'functions': [], 'aliases': [], 'collection_id': 461832002404089923, 'consistency_level': 2, 'properties': {}, 'num_partitions': 1, 'enable_dynamic_field': True, 'created_timestamp': 461832005567381509}\n"
     ]
    }
   ],
   "source": [
    "COLLECTION_NAME = \"rag_texts_and_embeddings\"\n",
    "\n",
    "milvus_client.create_collection(\n",
    "    collection_name=COLLECTION_NAME,\n",
    "    schema=schema\n",
    ")\n",
    "\n",
    "index_params = milvus_client.prepare_index_params()\n",
    "\n",
    "index_params.add_index(\n",
    "    field_name=\"embedding\",\n",
    "    index_type=\"HNSW\",\n",
    "    metric_type=\"L2\",\n",
    "    params={\"M\": 4, \"efConstruction\": 64}  # lower values for speed\n",
    ") \n",
    "\n",
    "milvus_client.create_index(\n",
    "    collection_name=COLLECTION_NAME,\n",
    "    index_params=index_params\n",
    ")\n",
    "\n",
    "# checkout our collection\n",
    "print(milvus_client.list_collections())\n",
    "\n",
    "# describe our collection\n",
    "print(milvus_client.describe_collection(COLLECTION_NAME))"
   ]
  },
  {
   "cell_type": "markdown",
   "id": "bfc94f2e",
   "metadata": {},
   "source": [
    "#### Data preprocessing"
   ]
  },
  {
   "cell_type": "code",
   "execution_count": 5,
   "id": "bd636154",
   "metadata": {},
   "outputs": [],
   "source": [
    "# define data source and destination\n",
    "## the document origin destination from which document will be downloaded \n",
    "pdf_url = \"https://www.iab.org.pl/wp-content/uploads/2024/04/Przewodnik-po-sztucznej-inteligencji-2024_IAB-Polska.pdf\"\n",
    "\n",
    "## local destination of the document\n",
    "file_name = \"Przewodnik-po-sztucznej-inteligencji-2024_IAB-Polska.pdf\"\n",
    "\n",
    "## local destination of the processed document \n",
    "file_json = \"Przewodnik-po-sztucznej-inteligencji-2024_IAB-Polska.json\"\n",
    "\n",
    "## local destination of the embedded pages of the document\n",
    "embeddings_json = \"Przewodnik-po-sztucznej-inteligencji-2024_IAB-Polska-Embeddings.json\"\n",
    "\n",
    "## local destination of all above local required files\n",
    "data_dir = \"./data\""
   ]
  },
  {
   "cell_type": "code",
   "execution_count": 6,
   "id": "eabcf4a8",
   "metadata": {},
   "outputs": [],
   "source": [
    "# download data\n",
    "import os\n",
    "import requests\n",
    "\n",
    "def download_pdf_data(pdf_url: str, file_name: str) -> None:\n",
    "    response = requests.get(pdf_url, stream=True)\n",
    "    \n",
    "    os.makedirs(data_dir, exist_ok=True)\n",
    "    with open(os.path.join(data_dir, file_name), \"wb\") as file:\n",
    "        for block in response.iter_content(chunk_size=1024):\n",
    "            if block:\n",
    "                file.write(block)\n",
    "\n",
    "download_pdf_data(pdf_url, file_name)"
   ]
  },
  {
   "cell_type": "code",
   "execution_count": 7,
   "id": "a6e15890",
   "metadata": {},
   "outputs": [],
   "source": [
    "# prepare data\n",
    "\n",
    "import fitz\n",
    "import json\n",
    "\n",
    "\n",
    "def extract_pdf_text(file_name, file_json):\n",
    "    document = fitz.open(os.path.join(data_dir, file_name))\n",
    "    pages = []\n",
    "\n",
    "    for page_num in range(len(document)):\n",
    "        page = document.load_page(page_num)\n",
    "        page_text = page.get_text()\n",
    "        pages.append({\"page_num\": page_num, \"text\": page_text})\n",
    "\n",
    "    with open(os.path.join(data_dir, file_json), \"w\") as file:\n",
    "        json.dump(pages, file, indent=4, ensure_ascii=False)\n",
    "\n",
    "extract_pdf_text(file_name, file_json)"
   ]
  },
  {
   "cell_type": "code",
   "execution_count": 8,
   "id": "ce513390",
   "metadata": {},
   "outputs": [],
   "source": [
    "# vectorize data\n",
    "import torch\n",
    "import numpy as np\n",
    "from sentence_transformers import SentenceTransformer\n",
    "\n",
    "\n",
    "def choose_device():\n",
    "    if torch.cuda.is_available():\n",
    "        return \"cuda\"\n",
    "    if torch.backends.mps.is_available():\n",
    "        return \"mps\"\n",
    "    return \"cpu\"\n",
    "\n",
    "\n",
    "def generate_embeddings(file_json, embeddings_json, model):\n",
    "    pages = []\n",
    "    with open(os.path.join(data_dir, file_json), \"r\") as file:\n",
    "        data = json.load(file)\n",
    "\n",
    "    for page in data:\n",
    "        pages.append(page[\"text\"])\n",
    "\n",
    "    embeddings = model.encode(pages)\n",
    "\n",
    "    embeddings_paginated = []\n",
    "    for page_num in range(len(embeddings)):\n",
    "        embeddings_paginated.append({\"page_num\": page_num, \"embedding\": embeddings[page_num].tolist()})\n",
    "\n",
    "    with open(os.path.join(data_dir, embeddings_json), \"w\") as file:\n",
    "        json.dump(embeddings_paginated, file, indent=4, ensure_ascii=False)\n",
    "\n",
    "model_name = \"ipipan/silver-retriever-base-v1.1\"\n",
    "device = choose_device()\n",
    "model = SentenceTransformer(model_name, device=device)\n",
    "generate_embeddings(file_json, embeddings_json, model)"
   ]
  },
  {
   "cell_type": "code",
   "execution_count": 9,
   "id": "8de1a28b",
   "metadata": {},
   "outputs": [],
   "source": [
    "def insert_embeddings(file_json, embeddings_json, client=milvus_client):\n",
    "    rows = []\n",
    "    with open(os.path.join(data_dir, file_json), \"r\") as t_f, open(os.path.join(data_dir, embeddings_json), \"r\") as e_f:\n",
    "        text_data, embedding_data = json.load(t_f), json.load(e_f)\n",
    "        text_data =  list(map(lambda d: d[\"text\"], text_data))\n",
    "        embedding_data = list(map(lambda d: d[\"embedding\"], embedding_data))\n",
    "        \n",
    "        for page, (text, embedding) in enumerate(zip(text_data, embedding_data)):\n",
    "            rows.append({\"text\":text, \"embedding\": embedding})\n",
    "\n",
    "    client.insert(collection_name=\"rag_texts_and_embeddings\", data=rows)\n",
    "\n",
    "\n",
    "insert_embeddings(file_json, embeddings_json)\n",
    "\n",
    "# load inserted data into memory\n",
    "milvus_client.load_collection(\"rag_texts_and_embeddings\")"
   ]
  },
  {
   "cell_type": "code",
   "execution_count": 10,
   "id": "a3d96caf",
   "metadata": {},
   "outputs": [
    {
     "data": {
      "text/plain": [
       "data: [[{'id': 461832002404090232, 'distance': 29.12518882751465, 'entity': {'text': 'Historia powstania\\nsztucznej inteligencji\\n7\\nW języku potocznym „sztuczny\" oznacza to, co\\njest \\nwytworem \\nmającym \\nnaśladować \\ncoś\\nnaturalnego. W takim znaczeniu używamy\\nterminu ,,sztuczny\\'\\', gdy mówimy o sztucznym\\nlodowisku lub oku. Sztuczna inteligencja byłaby\\nczymś (programem, maszyną) symulującym\\ninteligencję naturalną, ludzką.\\nSztuczna inteligencja (AI) to obszar informatyki,\\nktóry skupia się na tworzeniu programów\\nkomputerowych zdolnych do wykonywania\\nzadań, które wymagają ludzkiej inteligencji. \\nTe zadania obejmują rozpoznawanie wzorców,\\nrozumienie języka naturalnego, podejmowanie\\ndecyzji, uczenie się, planowanie i wiele innych.\\nGłównym celem AI jest stworzenie systemów,\\nktóre są zdolne do myślenia i podejmowania\\ndecyzji na sposób przypominający ludzki.\\nHistoria sztucznej inteligencji sięga lat 50. \\nXX wieku, kiedy to powstały pierwsze koncepcje\\ni modele tego, co mogłoby stać się sztuczną\\ninteligencją. Jednym z pionierów był Alan\\nTuring, który sformułował test Turinga, mający\\nna \\ncelu \\nocenę \\nzdolności \\nmaszyny \\ndo\\ninteligentnego \\nzachowania \\nna \\npoziomie\\nludzkim. Jednakże dopiero w latach 80. i 90.\\nnastąpił \\nprawdziwy \\nprzełom \\nw \\ndziedzinie\\nsztucznej \\ninteligencji \\ndzięki \\npostępowi \\nw\\ndziedzinie algorytmów uczenia maszynowego.\\nW wypadku sztucznej inteligencji mamy na\\nuwadze system, który realizowałby niektóre\\nfunkcje \\numysłu \\n– \\nczasami \\nw \\nsposób\\nprzewyższający funkcje naturalne (na przykład,\\naby był wolny od pomyłek przy liczeniu oraz\\ndefektów \\npamięci). \\nInteligencja \\njest \\nwła-\\nściwością umysłu. \\nSkłada się na nią szereg umiejętności, takich jak\\nzdolność do komunikowania, rozwiązywania\\nproblemów, uczenia się i dostosowywania do\\nsytuacji. \\nIstotna \\njest \\njednak \\numiejętność\\nrozumowania.\\nWspółczesne systemy sztucznej inteligencji są\\ninteligentne tylko w ograniczonym obszarze. \\nNa przykład komputer potrafi grać w szachy w\\ntaki \\nsposób, \\nże \\nwygrywa \\nz \\nszachowym\\narcymistrzem. W 1996 r. Deep Blue wygrał jedną\\npartię \\nszachów \\nz \\nGarry \\nKasparowem,\\nprzegrywając cały mecz wynikiem 4:2 (przy\\ndwóch remisach).\\nPóźniej Deep Blue został ulepszony i nie-\\noficjalnie \\nnazwany \\n„Deeper \\nBlue\". \\nZagrał\\nponownie z Kasparowem w maju 1997 roku.\\nMecz \\nskończył \\nsię \\nwynikiem \\n3½:2½ \\ndla\\nkomputera. W ten sposób Deep Blue stał się\\npierwszym systemem komputerowym, który\\nwygrał z aktualnym mistrzem świata w meczu\\nze standardową kontrolą czasu.\\nŹródło: Midjourney – obraz wygenerowany przez AI\\n'}}]]"
      ]
     },
     "execution_count": 10,
     "metadata": {},
     "output_type": "execute_result"
    }
   ],
   "source": [
    "# search\n",
    "def search(model, query, client=milvus_client):\n",
    "    embedded_query = model.encode(query).tolist()\n",
    "    result = client.search(\n",
    "        collection_name=\"rag_texts_and_embeddings\", \n",
    "        data=[embedded_query], \n",
    "        limit=1,\n",
    "        search_params={\"metric_type\": \"L2\"},\n",
    "        output_fields=[\"text\"]\n",
    "    )\n",
    "    return result\n",
    "\n",
    "\n",
    "result = search(model, query=\"Czym jest sztuczna inteligencja\")\n",
    "result"
   ]
  },
  {
   "cell_type": "code",
   "execution_count": 11,
   "id": "6ea84003",
   "metadata": {},
   "outputs": [],
   "source": [
    "import os\n",
    "from google import genai\n",
    "from dotenv import load_dotenv\n",
    "\n",
    "load_dotenv()\n",
    "\n",
    "GEMINI_KEY = os.getenv(\"GEMINI_API_KEY\")\n",
    "gemini_client = genai.Client(api_key=GEMINI_KEY)\n",
    "\n",
    "MODEL = \"gemini-2.0-flash\"\n",
    "\n",
    "def generate_response(prompt: str):\n",
    "    try:\n",
    "        # Send request to Gemini 2.0 Flash API and get the response\n",
    "        response = gemini_client.models.generate_content(\n",
    "            model=MODEL,\n",
    "            contents=prompt,\n",
    "        )\n",
    "        return response.text \n",
    "    except Exception as e:\n",
    "        print(f\"Error generating response: {e}\")\n",
    "        return None"
   ]
  },
  {
   "cell_type": "code",
   "execution_count": 12,
   "id": "57da7df9",
   "metadata": {},
   "outputs": [],
   "source": [
    "def build_prompt(context: str, query: str) -> str:\n",
    "    prompt = f\"\"\"\n",
    "            Witam, moje pytanie to: {query}.\n",
    "            Przy udzielaniu odpowiedzie zachęcam do skorzystania także\n",
    "            z następującej informacji kontekstowej: {context}.\"\n",
    "        \"\"\"\n",
    "    return prompt\n",
    "\n",
    "def rag(model, query: str) -> str:\n",
    "    context = search(model, query=\"Czym jest sztuczna inteligencja\")\n",
    "    prompt = build_prompt(context, query)\n",
    "    answer = generate_response(prompt)\n",
    "    return answer"
   ]
  },
  {
   "cell_type": "code",
   "execution_count": 16,
   "id": "aeb54635",
   "metadata": {},
   "outputs": [
    {
     "name": "stdout",
     "output_type": "stream",
     "text": [
      "Zdefiniowanie jednego algorytmu AI z XX wieku jako \"najbardziej rewolucyjnego\"\n",
      "jest trudne, ponieważ wiele z nich miało ogromny wpływ na rozwój tej dziedziny.\n",
      "Jednak, biorąc pod uwagę kontekst historyczny i długotrwałe skutki, **algorytm\n",
      "wstecznej propagacji (backpropagation)** używany w **wielowarstwowych sieciach\n",
      "neuronowych (Multilayer Perceptron - MLP)** wydaje się być bardzo silnym\n",
      "kandydatem.  Oto argumenty:  *   **Przełom w uczeniu sieci neuronowych:**\n",
      "Chociaż sieci neuronowe istniały już wcześniej, dopiero algorytm wstecznej\n",
      "propagacji, spopularyzowany w latach 80. XX wieku, umożliwił efektywne uczenie\n",
      "głębokich, wielowarstwowych sieci. Wcześniejsze metody były nieskuteczne dla\n",
      "bardziej złożonych struktur.  *   **Podstawa dla dalszego rozwoju:**  Wsteczna\n",
      "propagacja stała się fundamentalnym algorytmem uczenia dla ogromnej gamy\n",
      "zastosowań. Jest ona bazą dla wielu nowoczesnych architektur sieci neuronowych,\n",
      "takich jak konwolucyjne sieci neuronowe (CNN) używane w przetwarzaniu obrazów,\n",
      "oraz rekurencyjne sieci neuronowe (RNN) stosowane w przetwarzaniu języka\n",
      "naturalnego. Bez niej, wiele z obecnych sukcesów AI byłoby niemożliwych.  *\n",
      "**Praktyczne zastosowania:** Algorytm backpropagation otworzył drogę do\n",
      "praktycznego zastosowania sieci neuronowych w wielu dziedzinach, takich jak\n",
      "rozpoznawanie pisma ręcznego, rozpoznawanie mowy, a także wczesne systemy\n",
      "ekspertowe.  *   **Inspiracja dla przyszłych badań:** Pomimo swoich ograniczeń,\n",
      "algorytm wstecznej propagacji zainspirował wiele późniejszych badań nad\n",
      "optymalizacją procesu uczenia, architekturami sieci neuronowych, oraz metodami\n",
      "regularyzacji.  **Dlaczego inne algorytmy mogą być mniej \"rewolucyjne\" (w\n",
      "kontekście długotrwałego wpływu):**  *   **Systemy Ekspertowe oparte na\n",
      "Regułach:** Chociaż były bardzo popularne w latach 80., ich ograniczenia w\n",
      "radzeniu sobie z niepewnością i skalowalnością sprawiły, że zostały w dużej\n",
      "mierze wyparte przez podejścia oparte na uczeniu maszynowym. *   **Drzewa\n",
      "Decyzyjne:** Ważne i nadal używane, ale ich wpływ na rozwój *samej* sztucznej\n",
      "inteligencji jest mniejszy niż wstecznej propagacji, która otworzyła drogę do\n",
      "bardziej złożonych i wydajnych modeli.  Podsumowując, algorytm wstecznej\n",
      "propagacji, choć nie był pierwszym algorytmem uczenia maszynowego, umożliwił\n",
      "realne i efektywne uczenie sieci neuronowych, co zrewolucjonizowało dziedzinę AI\n",
      "i położyło podwaliny pod współczesne sukcesy głębokiego uczenia. \n",
      "\n"
     ]
    }
   ],
   "source": [
    "import textwrap\n",
    "\n",
    "\n",
    "answer = rag(model, \"Jaki algorytm sztucznej inteligencji z XX wieku można uznać za najbardziej rewolucyjny?\")\n",
    "print(textwrap.fill(answer, width=80), \"\\n\")"
   ]
  }
 ],
 "metadata": {
  "kernelspec": {
   "display_name": "mlops-course-agh-lab-04 (3.12.8)",
   "language": "python",
   "name": "python3"
  },
  "language_info": {
   "codemirror_mode": {
    "name": "ipython",
    "version": 3
   },
   "file_extension": ".py",
   "mimetype": "text/x-python",
   "name": "python",
   "nbconvert_exporter": "python",
   "pygments_lexer": "ipython3",
   "version": "3.12.8"
  }
 },
 "nbformat": 4,
 "nbformat_minor": 5
}
