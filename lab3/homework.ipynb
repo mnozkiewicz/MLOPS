{
 "cells": [
  {
   "cell_type": "markdown",
   "id": "724bcb8e",
   "metadata": {},
   "source": [
    "### 1. Data Reading"
   ]
  },
  {
   "cell_type": "code",
   "execution_count": 1,
   "id": "4f7a42d2",
   "metadata": {},
   "outputs": [],
   "source": [
    "import polars as pl\n",
    "\n",
    "dfs = []\n",
    "for month in range(1, 13):\n",
    "    df = pl.scan_parquet(f\"data/{month}.parquet\")\n",
    "    df = df.with_columns(\n",
    "        pl.col(\"tpep_pickup_datetime\").dt.cast_time_unit(\"ms\"),\n",
    "        pl.col(\"tpep_dropoff_datetime\").dt.cast_time_unit(\"ms\"),\n",
    "    )\n",
    "    dfs.append(df)\n",
    "\n",
    "df_taxi_lookup = pl.scan_csv(\"data/taxi_zone_lookup.csv\")\n",
    "df: pl.LazyFrame = pl.concat(dfs)"
   ]
  },
  {
   "cell_type": "code",
   "execution_count": 2,
   "id": "60e2eccf",
   "metadata": {},
   "outputs": [],
   "source": [
    "df_2024 = (\n",
    "    df\n",
    "    .filter(\n",
    "        pl.col(\"tpep_pickup_datetime\").dt.year() == 2024,\n",
    "        pl.col(\"tpep_dropoff_datetime\").dt.date() <= pl.date(2025, 1, 1),\n",
    "    )\n",
    "    .with_columns(\n",
    "        pl.col(\"VendorID\").cast(pl.UInt8),\n",
    "        pl.col(\"passenger_count\").cast(pl.UInt8),\n",
    "        pl.col(\"store_and_fwd_flag\").cast(pl.Categorical),\n",
    "        pl.col(\"RatecodeID\").cast(pl.UInt8),\n",
    "        pl.col(\"PULocationID\").cast(pl.UInt16),\n",
    "        pl.col(\"DOLocationID\").cast(pl.UInt16),\n",
    "        pl.col(\"payment_type\").cast(pl.UInt8),\n",
    "    )\n",
    ")"
   ]
  },
  {
   "cell_type": "code",
   "execution_count": 4,
   "id": "21686d57",
   "metadata": {},
   "outputs": [
    {
     "data": {
      "text/html": [
       "<div><style>\n",
       ".dataframe > thead > tr,\n",
       ".dataframe > tbody > tr {\n",
       "  text-align: right;\n",
       "  white-space: pre-wrap;\n",
       "}\n",
       "</style>\n",
       "<small>shape: (5, 19)</small><table border=\"1\" class=\"dataframe\"><thead><tr><th>VendorID</th><th>tpep_pickup_datetime</th><th>tpep_dropoff_datetime</th><th>passenger_count</th><th>trip_distance</th><th>RatecodeID</th><th>store_and_fwd_flag</th><th>PULocationID</th><th>DOLocationID</th><th>payment_type</th><th>fare_amount</th><th>extra</th><th>mta_tax</th><th>tip_amount</th><th>tolls_amount</th><th>improvement_surcharge</th><th>total_amount</th><th>congestion_surcharge</th><th>Airport_fee</th></tr><tr><td>u8</td><td>datetime[ms]</td><td>datetime[ms]</td><td>u8</td><td>f64</td><td>u8</td><td>cat</td><td>u16</td><td>u16</td><td>u8</td><td>f64</td><td>f64</td><td>f64</td><td>f64</td><td>f64</td><td>f64</td><td>f64</td><td>f64</td><td>f64</td></tr></thead><tbody><tr><td>2</td><td>2024-01-01 00:57:55</td><td>2024-01-01 01:17:43</td><td>1</td><td>1.72</td><td>1</td><td>&quot;N&quot;</td><td>186</td><td>79</td><td>2</td><td>17.7</td><td>1.0</td><td>0.5</td><td>0.0</td><td>0.0</td><td>1.0</td><td>22.7</td><td>2.5</td><td>0.0</td></tr><tr><td>1</td><td>2024-01-01 00:03:00</td><td>2024-01-01 00:09:36</td><td>1</td><td>1.8</td><td>1</td><td>&quot;N&quot;</td><td>140</td><td>236</td><td>1</td><td>10.0</td><td>3.5</td><td>0.5</td><td>3.75</td><td>0.0</td><td>1.0</td><td>18.75</td><td>2.5</td><td>0.0</td></tr><tr><td>1</td><td>2024-01-01 00:17:06</td><td>2024-01-01 00:35:01</td><td>1</td><td>4.7</td><td>1</td><td>&quot;N&quot;</td><td>236</td><td>79</td><td>1</td><td>23.3</td><td>3.5</td><td>0.5</td><td>3.0</td><td>0.0</td><td>1.0</td><td>31.3</td><td>2.5</td><td>0.0</td></tr><tr><td>1</td><td>2024-01-01 00:36:38</td><td>2024-01-01 00:44:56</td><td>1</td><td>1.4</td><td>1</td><td>&quot;N&quot;</td><td>79</td><td>211</td><td>1</td><td>10.0</td><td>3.5</td><td>0.5</td><td>2.0</td><td>0.0</td><td>1.0</td><td>17.0</td><td>2.5</td><td>0.0</td></tr><tr><td>1</td><td>2024-01-01 00:46:51</td><td>2024-01-01 00:52:57</td><td>1</td><td>0.8</td><td>1</td><td>&quot;N&quot;</td><td>211</td><td>148</td><td>1</td><td>7.9</td><td>3.5</td><td>0.5</td><td>3.2</td><td>0.0</td><td>1.0</td><td>16.1</td><td>2.5</td><td>0.0</td></tr></tbody></table></div>"
      ],
      "text/plain": [
       "shape: (5, 19)\n",
       "┌──────────┬───────────┬───────────┬───────────┬───┬───────────┬───────────┬───────────┬───────────┐\n",
       "│ VendorID ┆ tpep_pick ┆ tpep_drop ┆ passenger ┆ … ┆ improveme ┆ total_amo ┆ congestio ┆ Airport_f │\n",
       "│ ---      ┆ up_dateti ┆ off_datet ┆ _count    ┆   ┆ nt_surcha ┆ unt       ┆ n_surchar ┆ ee        │\n",
       "│ u8       ┆ me        ┆ ime       ┆ ---       ┆   ┆ rge       ┆ ---       ┆ ge        ┆ ---       │\n",
       "│          ┆ ---       ┆ ---       ┆ u8        ┆   ┆ ---       ┆ f64       ┆ ---       ┆ f64       │\n",
       "│          ┆ datetime[ ┆ datetime[ ┆           ┆   ┆ f64       ┆           ┆ f64       ┆           │\n",
       "│          ┆ ms]       ┆ ms]       ┆           ┆   ┆           ┆           ┆           ┆           │\n",
       "╞══════════╪═══════════╪═══════════╪═══════════╪═══╪═══════════╪═══════════╪═══════════╪═══════════╡\n",
       "│ 2        ┆ 2024-01-0 ┆ 2024-01-0 ┆ 1         ┆ … ┆ 1.0       ┆ 22.7      ┆ 2.5       ┆ 0.0       │\n",
       "│          ┆ 1         ┆ 1         ┆           ┆   ┆           ┆           ┆           ┆           │\n",
       "│          ┆ 00:57:55  ┆ 01:17:43  ┆           ┆   ┆           ┆           ┆           ┆           │\n",
       "│ 1        ┆ 2024-01-0 ┆ 2024-01-0 ┆ 1         ┆ … ┆ 1.0       ┆ 18.75     ┆ 2.5       ┆ 0.0       │\n",
       "│          ┆ 1         ┆ 1         ┆           ┆   ┆           ┆           ┆           ┆           │\n",
       "│          ┆ 00:03:00  ┆ 00:09:36  ┆           ┆   ┆           ┆           ┆           ┆           │\n",
       "│ 1        ┆ 2024-01-0 ┆ 2024-01-0 ┆ 1         ┆ … ┆ 1.0       ┆ 31.3      ┆ 2.5       ┆ 0.0       │\n",
       "│          ┆ 1         ┆ 1         ┆           ┆   ┆           ┆           ┆           ┆           │\n",
       "│          ┆ 00:17:06  ┆ 00:35:01  ┆           ┆   ┆           ┆           ┆           ┆           │\n",
       "│ 1        ┆ 2024-01-0 ┆ 2024-01-0 ┆ 1         ┆ … ┆ 1.0       ┆ 17.0      ┆ 2.5       ┆ 0.0       │\n",
       "│          ┆ 1         ┆ 1         ┆           ┆   ┆           ┆           ┆           ┆           │\n",
       "│          ┆ 00:36:38  ┆ 00:44:56  ┆           ┆   ┆           ┆           ┆           ┆           │\n",
       "│ 1        ┆ 2024-01-0 ┆ 2024-01-0 ┆ 1         ┆ … ┆ 1.0       ┆ 16.1      ┆ 2.5       ┆ 0.0       │\n",
       "│          ┆ 1         ┆ 1         ┆           ┆   ┆           ┆           ┆           ┆           │\n",
       "│          ┆ 00:46:51  ┆ 00:52:57  ┆           ┆   ┆           ┆           ┆           ┆           │\n",
       "└──────────┴───────────┴───────────┴───────────┴───┴───────────┴───────────┴───────────┴───────────┘"
      ]
     },
     "execution_count": 4,
     "metadata": {},
     "output_type": "execute_result"
    }
   ],
   "source": [
    "df_2024.head().collect()"
   ]
  },
  {
   "cell_type": "markdown",
   "id": "78c7009e",
   "metadata": {},
   "source": [
    "### 2. Data Cleaning and filtering"
   ]
  },
  {
   "cell_type": "code",
   "execution_count": 6,
   "id": "043b9679",
   "metadata": {},
   "outputs": [],
   "source": [
    "money_related_cols = [\n",
    "    \"fare_amount\",\n",
    "    \"extra\",\n",
    "    \"mta_tax\",\n",
    "    \"tip_amount\",\n",
    "    \"tolls_amount\",\n",
    "    \"improvement_surcharge\",\n",
    "    \"total_amount\",\n",
    "    \"congestion_surcharge\",\n",
    "    \"Airport_fee\"\n",
    "]\n",
    "\n",
    "ratecode_id_values = [1, 2, 3, 4, 5, 6, 99]\n",
    "vendor_id_values = [1, 2, 6, 7]\n",
    "\n",
    "df_cleaned = (\n",
    "    df_2024\n",
    "    .with_columns(\n",
    "        pl.col(\"passenger_count\")\n",
    "        .fill_null(1)\n",
    "    )\n",
    "    .filter(pl.col(\"passenger_count\") > 0)\n",
    "    .with_columns(\n",
    "        pl.when(pl.col(\"passenger_count\") > 6)\n",
    "        .then(pl.lit(6))\n",
    "        .otherwise(pl.col(\"passenger_count\"))\n",
    "        .alias(\"passenger_count\")\n",
    "    )\n",
    "    .with_columns(\n",
    "        (pl.col(\"tpep_dropoff_datetime\") - pl.col(\"tpep_pickup_datetime\"))\n",
    "        .dt.total_minutes()\n",
    "        .alias(\"trip_time\")\n",
    "    )\n",
    "    .filter(pl.col(\"trip_time\") <= 120)\n",
    "    .with_columns([pl.col(column_name).abs() for column_name in money_related_cols])\n",
    "    .filter([pl.col(column_name) <= 1000 for column_name in money_related_cols])\n",
    "    .filter(\n",
    "        pl.col(\"RatecodeID\").is_not_null(),\n",
    "        pl.col(\"RatecodeID\").is_in(ratecode_id_values),\n",
    "        pl.col(\"VendorID\").is_not_null(),\n",
    "        pl.col(\"VendorID\").is_in(vendor_id_values),\n",
    "    )\n",
    "\n",
    ")"
   ]
  },
  {
   "cell_type": "code",
   "execution_count": 7,
   "id": "ad32b032",
   "metadata": {},
   "outputs": [
    {
     "data": {
      "text/html": [
       "<div><style>\n",
       ".dataframe > thead > tr,\n",
       ".dataframe > tbody > tr {\n",
       "  text-align: right;\n",
       "  white-space: pre-wrap;\n",
       "}\n",
       "</style>\n",
       "<small>shape: (5, 20)</small><table border=\"1\" class=\"dataframe\"><thead><tr><th>VendorID</th><th>tpep_pickup_datetime</th><th>tpep_dropoff_datetime</th><th>passenger_count</th><th>trip_distance</th><th>RatecodeID</th><th>store_and_fwd_flag</th><th>PULocationID</th><th>DOLocationID</th><th>payment_type</th><th>fare_amount</th><th>extra</th><th>mta_tax</th><th>tip_amount</th><th>tolls_amount</th><th>improvement_surcharge</th><th>total_amount</th><th>congestion_surcharge</th><th>Airport_fee</th><th>trip_time</th></tr><tr><td>u8</td><td>datetime[ms]</td><td>datetime[ms]</td><td>u8</td><td>f64</td><td>u8</td><td>cat</td><td>u16</td><td>u16</td><td>u8</td><td>f64</td><td>f64</td><td>f64</td><td>f64</td><td>f64</td><td>f64</td><td>f64</td><td>f64</td><td>f64</td><td>i64</td></tr></thead><tbody><tr><td>2</td><td>2024-01-01 00:57:55</td><td>2024-01-01 01:17:43</td><td>1</td><td>1.72</td><td>1</td><td>&quot;N&quot;</td><td>186</td><td>79</td><td>2</td><td>17.7</td><td>1.0</td><td>0.5</td><td>0.0</td><td>0.0</td><td>1.0</td><td>22.7</td><td>2.5</td><td>0.0</td><td>19</td></tr><tr><td>1</td><td>2024-01-01 00:03:00</td><td>2024-01-01 00:09:36</td><td>1</td><td>1.8</td><td>1</td><td>&quot;N&quot;</td><td>140</td><td>236</td><td>1</td><td>10.0</td><td>3.5</td><td>0.5</td><td>3.75</td><td>0.0</td><td>1.0</td><td>18.75</td><td>2.5</td><td>0.0</td><td>6</td></tr><tr><td>1</td><td>2024-01-01 00:17:06</td><td>2024-01-01 00:35:01</td><td>1</td><td>4.7</td><td>1</td><td>&quot;N&quot;</td><td>236</td><td>79</td><td>1</td><td>23.3</td><td>3.5</td><td>0.5</td><td>3.0</td><td>0.0</td><td>1.0</td><td>31.3</td><td>2.5</td><td>0.0</td><td>17</td></tr><tr><td>1</td><td>2024-01-01 00:36:38</td><td>2024-01-01 00:44:56</td><td>1</td><td>1.4</td><td>1</td><td>&quot;N&quot;</td><td>79</td><td>211</td><td>1</td><td>10.0</td><td>3.5</td><td>0.5</td><td>2.0</td><td>0.0</td><td>1.0</td><td>17.0</td><td>2.5</td><td>0.0</td><td>8</td></tr><tr><td>1</td><td>2024-01-01 00:46:51</td><td>2024-01-01 00:52:57</td><td>1</td><td>0.8</td><td>1</td><td>&quot;N&quot;</td><td>211</td><td>148</td><td>1</td><td>7.9</td><td>3.5</td><td>0.5</td><td>3.2</td><td>0.0</td><td>1.0</td><td>16.1</td><td>2.5</td><td>0.0</td><td>6</td></tr></tbody></table></div>"
      ],
      "text/plain": [
       "shape: (5, 20)\n",
       "┌──────────┬───────────┬───────────┬───────────┬───┬───────────┬───────────┬───────────┬───────────┐\n",
       "│ VendorID ┆ tpep_pick ┆ tpep_drop ┆ passenger ┆ … ┆ total_amo ┆ congestio ┆ Airport_f ┆ trip_time │\n",
       "│ ---      ┆ up_dateti ┆ off_datet ┆ _count    ┆   ┆ unt       ┆ n_surchar ┆ ee        ┆ ---       │\n",
       "│ u8       ┆ me        ┆ ime       ┆ ---       ┆   ┆ ---       ┆ ge        ┆ ---       ┆ i64       │\n",
       "│          ┆ ---       ┆ ---       ┆ u8        ┆   ┆ f64       ┆ ---       ┆ f64       ┆           │\n",
       "│          ┆ datetime[ ┆ datetime[ ┆           ┆   ┆           ┆ f64       ┆           ┆           │\n",
       "│          ┆ ms]       ┆ ms]       ┆           ┆   ┆           ┆           ┆           ┆           │\n",
       "╞══════════╪═══════════╪═══════════╪═══════════╪═══╪═══════════╪═══════════╪═══════════╪═══════════╡\n",
       "│ 2        ┆ 2024-01-0 ┆ 2024-01-0 ┆ 1         ┆ … ┆ 22.7      ┆ 2.5       ┆ 0.0       ┆ 19        │\n",
       "│          ┆ 1         ┆ 1         ┆           ┆   ┆           ┆           ┆           ┆           │\n",
       "│          ┆ 00:57:55  ┆ 01:17:43  ┆           ┆   ┆           ┆           ┆           ┆           │\n",
       "│ 1        ┆ 2024-01-0 ┆ 2024-01-0 ┆ 1         ┆ … ┆ 18.75     ┆ 2.5       ┆ 0.0       ┆ 6         │\n",
       "│          ┆ 1         ┆ 1         ┆           ┆   ┆           ┆           ┆           ┆           │\n",
       "│          ┆ 00:03:00  ┆ 00:09:36  ┆           ┆   ┆           ┆           ┆           ┆           │\n",
       "│ 1        ┆ 2024-01-0 ┆ 2024-01-0 ┆ 1         ┆ … ┆ 31.3      ┆ 2.5       ┆ 0.0       ┆ 17        │\n",
       "│          ┆ 1         ┆ 1         ┆           ┆   ┆           ┆           ┆           ┆           │\n",
       "│          ┆ 00:17:06  ┆ 00:35:01  ┆           ┆   ┆           ┆           ┆           ┆           │\n",
       "│ 1        ┆ 2024-01-0 ┆ 2024-01-0 ┆ 1         ┆ … ┆ 17.0      ┆ 2.5       ┆ 0.0       ┆ 8         │\n",
       "│          ┆ 1         ┆ 1         ┆           ┆   ┆           ┆           ┆           ┆           │\n",
       "│          ┆ 00:36:38  ┆ 00:44:56  ┆           ┆   ┆           ┆           ┆           ┆           │\n",
       "│ 1        ┆ 2024-01-0 ┆ 2024-01-0 ┆ 1         ┆ … ┆ 16.1      ┆ 2.5       ┆ 0.0       ┆ 6         │\n",
       "│          ┆ 1         ┆ 1         ┆           ┆   ┆           ┆           ┆           ┆           │\n",
       "│          ┆ 00:46:51  ┆ 00:52:57  ┆           ┆   ┆           ┆           ┆           ┆           │\n",
       "└──────────┴───────────┴───────────┴───────────┴───┴───────────┴───────────┴───────────┴───────────┘"
      ]
     },
     "execution_count": 7,
     "metadata": {},
     "output_type": "execute_result"
    }
   ],
   "source": [
    "df_cleaned.head().collect()"
   ]
  },
  {
   "cell_type": "markdown",
   "id": "d8e6ece8",
   "metadata": {},
   "source": [
    "### 3. Data Transformation"
   ]
  },
  {
   "cell_type": "code",
   "execution_count": 9,
   "id": "68c6d911",
   "metadata": {},
   "outputs": [],
   "source": [
    "week_day_expr = pl.col(\"tpep_pickup_datetime\").dt.weekday().is_between(1, 5)\n",
    "first_hour_expr = (\n",
    "    (pl.col(\"tpep_pickup_datetime\").dt.time() >= pl.time(6, 30)) & \n",
    "    (pl.col(\"tpep_pickup_datetime\").dt.time() < pl.time(9, 30))\n",
    ")\n",
    "second_hour_expr = (\n",
    "    (pl.col(\"tpep_pickup_datetime\").dt.time() >= pl.time(15, 30)) &\n",
    "    (pl.col(\"tpep_pickup_datetime\").dt.time() < pl.time(20))\n",
    ")\n",
    "\n",
    "rush_hour_expr = week_day_expr & (first_hour_expr | second_hour_expr)\n",
    "\n",
    "\n",
    "df_transformed = (\n",
    "    df_cleaned\n",
    "    .with_columns(\n",
    "        pl.when(pl.col(\"payment_type\") == 1)\n",
    "        .then(pl.lit(\"card\"))\n",
    "        .when(pl.col(\"payment_type\") == 2)\n",
    "        .then(pl.lit(\"cash\"))\n",
    "        .otherwise(pl.lit(\"other\"))\n",
    "        .alias(\"payment_type\")\n",
    "        .cast(pl.Categorical)\n",
    "    )\n",
    "    .join(df_taxi_lookup.select(\"LocationID\", \"Borough\"), left_on=\"PULocationID\", right_on=\"LocationID\")\n",
    "    .with_columns(pl.col(\"Borough\").alias(\"PUBorough\"))\n",
    "    .drop(\"Borough\", \"PULocationID\")\n",
    "    .join(df_taxi_lookup.select(\"LocationID\", \"Borough\"), left_on=\"DOLocationID\", right_on=\"LocationID\")\n",
    "    .with_columns(pl.col(\"Borough\").alias(\"DOBorough\"))\n",
    "    .drop(\"Borough\", \"DOLocationID\")\n",
    "    .with_columns((pl.col(\"Airport_fee\") > 0).alias(\"is_airport_ride\"))\n",
    "    .with_columns(rush_hour_expr.alias(\"is_rush_hour\"))\n",
    ")"
   ]
  },
  {
   "cell_type": "code",
   "execution_count": 10,
   "id": "6f56d600",
   "metadata": {},
   "outputs": [
    {
     "data": {
      "text/html": [
       "<div><style>\n",
       ".dataframe > thead > tr,\n",
       ".dataframe > tbody > tr {\n",
       "  text-align: right;\n",
       "  white-space: pre-wrap;\n",
       "}\n",
       "</style>\n",
       "<small>shape: (5, 22)</small><table border=\"1\" class=\"dataframe\"><thead><tr><th>VendorID</th><th>tpep_pickup_datetime</th><th>tpep_dropoff_datetime</th><th>passenger_count</th><th>trip_distance</th><th>RatecodeID</th><th>store_and_fwd_flag</th><th>payment_type</th><th>fare_amount</th><th>extra</th><th>mta_tax</th><th>tip_amount</th><th>tolls_amount</th><th>improvement_surcharge</th><th>total_amount</th><th>congestion_surcharge</th><th>Airport_fee</th><th>trip_time</th><th>PUBorough</th><th>DOBorough</th><th>is_airport_ride</th><th>is_rush_hour</th></tr><tr><td>u8</td><td>datetime[ms]</td><td>datetime[ms]</td><td>u8</td><td>f64</td><td>u8</td><td>cat</td><td>cat</td><td>f64</td><td>f64</td><td>f64</td><td>f64</td><td>f64</td><td>f64</td><td>f64</td><td>f64</td><td>f64</td><td>i64</td><td>str</td><td>str</td><td>bool</td><td>bool</td></tr></thead><tbody><tr><td>2</td><td>2024-01-01 00:57:55</td><td>2024-01-01 01:17:43</td><td>1</td><td>1.72</td><td>1</td><td>&quot;N&quot;</td><td>&quot;cash&quot;</td><td>17.7</td><td>1.0</td><td>0.5</td><td>0.0</td><td>0.0</td><td>1.0</td><td>22.7</td><td>2.5</td><td>0.0</td><td>19</td><td>&quot;Manhattan&quot;</td><td>&quot;Manhattan&quot;</td><td>false</td><td>false</td></tr><tr><td>1</td><td>2024-01-01 00:03:00</td><td>2024-01-01 00:09:36</td><td>1</td><td>1.8</td><td>1</td><td>&quot;N&quot;</td><td>&quot;card&quot;</td><td>10.0</td><td>3.5</td><td>0.5</td><td>3.75</td><td>0.0</td><td>1.0</td><td>18.75</td><td>2.5</td><td>0.0</td><td>6</td><td>&quot;Manhattan&quot;</td><td>&quot;Manhattan&quot;</td><td>false</td><td>false</td></tr><tr><td>1</td><td>2024-01-01 00:17:06</td><td>2024-01-01 00:35:01</td><td>1</td><td>4.7</td><td>1</td><td>&quot;N&quot;</td><td>&quot;card&quot;</td><td>23.3</td><td>3.5</td><td>0.5</td><td>3.0</td><td>0.0</td><td>1.0</td><td>31.3</td><td>2.5</td><td>0.0</td><td>17</td><td>&quot;Manhattan&quot;</td><td>&quot;Manhattan&quot;</td><td>false</td><td>false</td></tr><tr><td>1</td><td>2024-01-01 00:36:38</td><td>2024-01-01 00:44:56</td><td>1</td><td>1.4</td><td>1</td><td>&quot;N&quot;</td><td>&quot;card&quot;</td><td>10.0</td><td>3.5</td><td>0.5</td><td>2.0</td><td>0.0</td><td>1.0</td><td>17.0</td><td>2.5</td><td>0.0</td><td>8</td><td>&quot;Manhattan&quot;</td><td>&quot;Manhattan&quot;</td><td>false</td><td>false</td></tr><tr><td>1</td><td>2024-01-01 00:46:51</td><td>2024-01-01 00:52:57</td><td>1</td><td>0.8</td><td>1</td><td>&quot;N&quot;</td><td>&quot;card&quot;</td><td>7.9</td><td>3.5</td><td>0.5</td><td>3.2</td><td>0.0</td><td>1.0</td><td>16.1</td><td>2.5</td><td>0.0</td><td>6</td><td>&quot;Manhattan&quot;</td><td>&quot;Manhattan&quot;</td><td>false</td><td>false</td></tr></tbody></table></div>"
      ],
      "text/plain": [
       "shape: (5, 22)\n",
       "┌──────────┬───────────┬───────────┬───────────┬───┬───────────┬───────────┬───────────┬───────────┐\n",
       "│ VendorID ┆ tpep_pick ┆ tpep_drop ┆ passenger ┆ … ┆ PUBorough ┆ DOBorough ┆ is_airpor ┆ is_rush_h │\n",
       "│ ---      ┆ up_dateti ┆ off_datet ┆ _count    ┆   ┆ ---       ┆ ---       ┆ t_ride    ┆ our       │\n",
       "│ u8       ┆ me        ┆ ime       ┆ ---       ┆   ┆ str       ┆ str       ┆ ---       ┆ ---       │\n",
       "│          ┆ ---       ┆ ---       ┆ u8        ┆   ┆           ┆           ┆ bool      ┆ bool      │\n",
       "│          ┆ datetime[ ┆ datetime[ ┆           ┆   ┆           ┆           ┆           ┆           │\n",
       "│          ┆ ms]       ┆ ms]       ┆           ┆   ┆           ┆           ┆           ┆           │\n",
       "╞══════════╪═══════════╪═══════════╪═══════════╪═══╪═══════════╪═══════════╪═══════════╪═══════════╡\n",
       "│ 2        ┆ 2024-01-0 ┆ 2024-01-0 ┆ 1         ┆ … ┆ Manhattan ┆ Manhattan ┆ false     ┆ false     │\n",
       "│          ┆ 1         ┆ 1         ┆           ┆   ┆           ┆           ┆           ┆           │\n",
       "│          ┆ 00:57:55  ┆ 01:17:43  ┆           ┆   ┆           ┆           ┆           ┆           │\n",
       "│ 1        ┆ 2024-01-0 ┆ 2024-01-0 ┆ 1         ┆ … ┆ Manhattan ┆ Manhattan ┆ false     ┆ false     │\n",
       "│          ┆ 1         ┆ 1         ┆           ┆   ┆           ┆           ┆           ┆           │\n",
       "│          ┆ 00:03:00  ┆ 00:09:36  ┆           ┆   ┆           ┆           ┆           ┆           │\n",
       "│ 1        ┆ 2024-01-0 ┆ 2024-01-0 ┆ 1         ┆ … ┆ Manhattan ┆ Manhattan ┆ false     ┆ false     │\n",
       "│          ┆ 1         ┆ 1         ┆           ┆   ┆           ┆           ┆           ┆           │\n",
       "│          ┆ 00:17:06  ┆ 00:35:01  ┆           ┆   ┆           ┆           ┆           ┆           │\n",
       "│ 1        ┆ 2024-01-0 ┆ 2024-01-0 ┆ 1         ┆ … ┆ Manhattan ┆ Manhattan ┆ false     ┆ false     │\n",
       "│          ┆ 1         ┆ 1         ┆           ┆   ┆           ┆           ┆           ┆           │\n",
       "│          ┆ 00:36:38  ┆ 00:44:56  ┆           ┆   ┆           ┆           ┆           ┆           │\n",
       "│ 1        ┆ 2024-01-0 ┆ 2024-01-0 ┆ 1         ┆ … ┆ Manhattan ┆ Manhattan ┆ false     ┆ false     │\n",
       "│          ┆ 1         ┆ 1         ┆           ┆   ┆           ┆           ┆           ┆           │\n",
       "│          ┆ 00:46:51  ┆ 00:52:57  ┆           ┆   ┆           ┆           ┆           ┆           │\n",
       "└──────────┴───────────┴───────────┴───────────┴───┴───────────┴───────────┴───────────┴───────────┘"
      ]
     },
     "execution_count": 10,
     "metadata": {},
     "output_type": "execute_result"
    }
   ],
   "source": [
    "df_transformed.head().collect()"
   ]
  },
  {
   "cell_type": "markdown",
   "id": "49b62797",
   "metadata": {},
   "source": [
    "### 4. Feature extraction"
   ]
  },
  {
   "cell_type": "code",
   "execution_count": 11,
   "id": "42b48a59",
   "metadata": {},
   "outputs": [],
   "source": [
    "(\n",
    "    df_transformed\n",
    "    .collect()\n",
    "    .to_dummies([\"payment_type\", \"PUBorough\", \"DOBorough\"])\n",
    "    .group_by(pl.col(\"tpep_pickup_datetime\").dt.date().alias(\"date\"))\n",
    "    .agg(\n",
    "        pl.col(\"^(DOBorough|PUBorough|payment_type)_.*$\").sum(),\n",
    "        pl.col(\"is_airport_ride\").sum().alias(\"airport_ride_count\"),\n",
    "        pl.col(\"is_rush_hour\").sum().alias(\"rush_hour_ride_count\"),\n",
    "        pl.col(\"passenger_count\").sum().alias(\"total_passenger_count\"),\n",
    "        pl.col(\"fare_amount\").mean().alias(\"mean_fare_amount\"),\n",
    "        pl.col(\"trip_distance\").median().alias(\"median_trip_distance\"),\n",
    "        pl.col(\"total_amount\").sum(),\n",
    "        pl.col(\"congestion_surcharge\").sum(),\n",
    "        pl.len().alias(\"total_rides\")\n",
    "    )\n",
    "    .with_columns(\n",
    "        pl.col(\"date\").dt.quarter().alias(\"quarter\"),\n",
    "        pl.col(\"date\").dt.month().alias(\"month\"),\n",
    "        pl.col(\"date\").dt.day().alias(\"day_of_month\"),\n",
    "        pl.col(\"date\").dt.weekday().alias(\"day_of_week\"),\n",
    "        pl.col(\"date\").dt.weekday().is_between(6, 7).alias(\"is_weekend\")\n",
    "    )\n",
    "    .write_parquet(\"data/dataset.parquet\")\n",
    ")"
   ]
  },
  {
   "cell_type": "markdown",
   "id": "bed6f30e",
   "metadata": {},
   "source": [
    "### 5. Data Analysis"
   ]
  },
  {
   "cell_type": "code",
   "execution_count": 16,
   "id": "96beeb08",
   "metadata": {},
   "outputs": [],
   "source": [
    "df = pl.read_parquet(\"data/dataset.parquet\")"
   ]
  },
  {
   "cell_type": "code",
   "execution_count": 17,
   "id": "dade3ccf",
   "metadata": {},
   "outputs": [
    {
     "data": {
      "text/plain": [
       "(366, 33)"
      ]
     },
     "execution_count": 17,
     "metadata": {},
     "output_type": "execute_result"
    }
   ],
   "source": [
    "df.shape"
   ]
  },
  {
   "cell_type": "code",
   "execution_count": 18,
   "id": "075fd3c0",
   "metadata": {},
   "outputs": [
    {
     "data": {
      "text/html": [
       "<div><style>\n",
       ".dataframe > thead > tr,\n",
       ".dataframe > tbody > tr {\n",
       "  text-align: right;\n",
       "  white-space: pre-wrap;\n",
       "}\n",
       "</style>\n",
       "<small>shape: (5, 33)</small><table border=\"1\" class=\"dataframe\"><thead><tr><th>date</th><th>payment_type_card</th><th>payment_type_cash</th><th>payment_type_other</th><th>PUBorough_Bronx</th><th>PUBorough_Brooklyn</th><th>PUBorough_EWR</th><th>PUBorough_Manhattan</th><th>PUBorough_N/A</th><th>PUBorough_Queens</th><th>PUBorough_Staten Island</th><th>PUBorough_Unknown</th><th>DOBorough_Bronx</th><th>DOBorough_Brooklyn</th><th>DOBorough_EWR</th><th>DOBorough_Manhattan</th><th>DOBorough_N/A</th><th>DOBorough_Queens</th><th>DOBorough_Staten Island</th><th>DOBorough_Unknown</th><th>airport_ride_count</th><th>rush_hour_ride_count</th><th>total_passenger_count</th><th>mean_fare_amount</th><th>median_trip_distance</th><th>total_amount</th><th>congestion_surcharge</th><th>total_rides</th><th>quarter</th><th>month</th><th>day_of_month</th><th>day_of_week</th><th>is_weekend</th></tr><tr><td>date</td><td>i64</td><td>i64</td><td>i64</td><td>i64</td><td>i64</td><td>i64</td><td>i64</td><td>i64</td><td>i64</td><td>i64</td><td>i64</td><td>i64</td><td>i64</td><td>i64</td><td>i64</td><td>i64</td><td>i64</td><td>i64</td><td>i64</td><td>u32</td><td>u32</td><td>i64</td><td>f64</td><td>f64</td><td>f64</td><td>f64</td><td>u32</td><td>i8</td><td>i8</td><td>i8</td><td>i8</td><td>bool</td></tr></thead><tbody><tr><td>2024-12-01</td><td>71259</td><td>13306</td><td>3649</td><td>153</td><td>892</td><td>22</td><td>71653</td><td>83</td><td>15117</td><td>6</td><td>288</td><td>497</td><td>4757</td><td>270</td><td>75936</td><td>590</td><td>5742</td><td>19</td><td>403</td><td>13964</td><td>0</td><td>125683</td><td>22.46811</td><td>1.86</td><td>2.8205e6</td><td>196888.5</td><td>88214</td><td>4</td><td>12</td><td>1</td><td>7</td><td>true</td></tr><tr><td>2024-03-14</td><td>98268</td><td>17004</td><td>2776</td><td>242</td><td>1032</td><td>14</td><td>106240</td><td>67</td><td>10073</td><td>0</td><td>380</td><td>677</td><td>4565</td><td>318</td><td>105749</td><td>461</td><td>5683</td><td>19</td><td>576</td><td>8917</td><td>48969</td><td>153586</td><td>19.63615</td><td>1.72</td><td>3.4335e6</td><td>275137.5</td><td>118048</td><td>1</td><td>3</td><td>14</td><td>4</td><td>false</td></tr><tr><td>2024-04-04</td><td>94891</td><td>16716</td><td>2756</td><td>219</td><td>955</td><td>15</td><td>101246</td><td>47</td><td>11510</td><td>1</td><td>370</td><td>605</td><td>4337</td><td>317</td><td>102434</td><td>493</td><td>5591</td><td>20</td><td>566</td><td>10381</td><td>45948</td><td>151778</td><td>19.731659</td><td>1.7</td><td>3.3376e6</td><td>263692.5</td><td>114363</td><td>2</td><td>4</td><td>4</td><td>4</td><td>false</td></tr><tr><td>2024-12-07</td><td>108582</td><td>17569</td><td>4498</td><td>161</td><td>961</td><td>31</td><td>120105</td><td>89</td><td>8856</td><td>3</td><td>443</td><td>525</td><td>4708</td><td>289</td><td>118909</td><td>543</td><td>5043</td><td>18</td><td>614</td><td>7806</td><td>0</td><td>189257</td><td>19.46182</td><td>1.61</td><td>3.6302e6</td><td>306871.0</td><td>130649</td><td>4</td><td>12</td><td>7</td><td>6</td><td>true</td></tr><tr><td>2024-08-16</td><td>69247</td><td>15040</td><td>3258</td><td>255</td><td>1062</td><td>20</td><td>76308</td><td>72</td><td>9554</td><td>1</td><td>273</td><td>670</td><td>3938</td><td>271</td><td>76585</td><td>539</td><td>5138</td><td>30</td><td>374</td><td>8398</td><td>33398</td><td>122026</td><td>20.203596</td><td>1.74</td><td>2.5674e6</td><td>197025.0</td><td>87545</td><td>3</td><td>8</td><td>16</td><td>5</td><td>false</td></tr></tbody></table></div>"
      ],
      "text/plain": [
       "shape: (5, 33)\n",
       "┌────────────┬────────────┬────────────┬───────────┬───┬───────┬───────────┬───────────┬───────────┐\n",
       "│ date       ┆ payment_ty ┆ payment_ty ┆ payment_t ┆ … ┆ month ┆ day_of_mo ┆ day_of_we ┆ is_weeken │\n",
       "│ ---        ┆ pe_card    ┆ pe_cash    ┆ ype_other ┆   ┆ ---   ┆ nth       ┆ ek        ┆ d         │\n",
       "│ date       ┆ ---        ┆ ---        ┆ ---       ┆   ┆ i8    ┆ ---       ┆ ---       ┆ ---       │\n",
       "│            ┆ i64        ┆ i64        ┆ i64       ┆   ┆       ┆ i8        ┆ i8        ┆ bool      │\n",
       "╞════════════╪════════════╪════════════╪═══════════╪═══╪═══════╪═══════════╪═══════════╪═══════════╡\n",
       "│ 2024-12-01 ┆ 71259      ┆ 13306      ┆ 3649      ┆ … ┆ 12    ┆ 1         ┆ 7         ┆ true      │\n",
       "│ 2024-03-14 ┆ 98268      ┆ 17004      ┆ 2776      ┆ … ┆ 3     ┆ 14        ┆ 4         ┆ false     │\n",
       "│ 2024-04-04 ┆ 94891      ┆ 16716      ┆ 2756      ┆ … ┆ 4     ┆ 4         ┆ 4         ┆ false     │\n",
       "│ 2024-12-07 ┆ 108582     ┆ 17569      ┆ 4498      ┆ … ┆ 12    ┆ 7         ┆ 6         ┆ true      │\n",
       "│ 2024-08-16 ┆ 69247      ┆ 15040      ┆ 3258      ┆ … ┆ 8     ┆ 16        ┆ 5         ┆ false     │\n",
       "└────────────┴────────────┴────────────┴───────────┴───┴───────┴───────────┴───────────┴───────────┘"
      ]
     },
     "execution_count": 18,
     "metadata": {},
     "output_type": "execute_result"
    }
   ],
   "source": [
    "df.head()"
   ]
  },
  {
   "cell_type": "code",
   "execution_count": 19,
   "id": "6ca6304f",
   "metadata": {},
   "outputs": [
    {
     "data": {
      "text/html": [
       "<div><style>\n",
       ".dataframe > thead > tr,\n",
       ".dataframe > tbody > tr {\n",
       "  text-align: right;\n",
       "  white-space: pre-wrap;\n",
       "}\n",
       "</style>\n",
       "<small>shape: (9, 34)</small><table border=\"1\" class=\"dataframe\"><thead><tr><th>statistic</th><th>date</th><th>payment_type_card</th><th>payment_type_cash</th><th>payment_type_other</th><th>PUBorough_Bronx</th><th>PUBorough_Brooklyn</th><th>PUBorough_EWR</th><th>PUBorough_Manhattan</th><th>PUBorough_N/A</th><th>PUBorough_Queens</th><th>PUBorough_Staten Island</th><th>PUBorough_Unknown</th><th>DOBorough_Bronx</th><th>DOBorough_Brooklyn</th><th>DOBorough_EWR</th><th>DOBorough_Manhattan</th><th>DOBorough_N/A</th><th>DOBorough_Queens</th><th>DOBorough_Staten Island</th><th>DOBorough_Unknown</th><th>airport_ride_count</th><th>rush_hour_ride_count</th><th>total_passenger_count</th><th>mean_fare_amount</th><th>median_trip_distance</th><th>total_amount</th><th>congestion_surcharge</th><th>total_rides</th><th>quarter</th><th>month</th><th>day_of_month</th><th>day_of_week</th><th>is_weekend</th></tr><tr><td>str</td><td>str</td><td>f64</td><td>f64</td><td>f64</td><td>f64</td><td>f64</td><td>f64</td><td>f64</td><td>f64</td><td>f64</td><td>f64</td><td>f64</td><td>f64</td><td>f64</td><td>f64</td><td>f64</td><td>f64</td><td>f64</td><td>f64</td><td>f64</td><td>f64</td><td>f64</td><td>f64</td><td>f64</td><td>f64</td><td>f64</td><td>f64</td><td>f64</td><td>f64</td><td>f64</td><td>f64</td><td>f64</td><td>f64</td></tr></thead><tbody><tr><td>&quot;count&quot;</td><td>&quot;366&quot;</td><td>366.0</td><td>366.0</td><td>366.0</td><td>366.0</td><td>366.0</td><td>366.0</td><td>366.0</td><td>366.0</td><td>366.0</td><td>366.0</td><td>366.0</td><td>366.0</td><td>366.0</td><td>366.0</td><td>366.0</td><td>366.0</td><td>366.0</td><td>366.0</td><td>366.0</td><td>366.0</td><td>366.0</td><td>366.0</td><td>366.0</td><td>366.0</td><td>366.0</td><td>366.0</td><td>366.0</td><td>366.0</td><td>366.0</td><td>366.0</td><td>366.0</td><td>366.0</td></tr><tr><td>&quot;null_count&quot;</td><td>&quot;0&quot;</td><td>0.0</td><td>0.0</td><td>0.0</td><td>0.0</td><td>0.0</td><td>0.0</td><td>0.0</td><td>0.0</td><td>0.0</td><td>0.0</td><td>0.0</td><td>0.0</td><td>0.0</td><td>0.0</td><td>0.0</td><td>0.0</td><td>0.0</td><td>0.0</td><td>0.0</td><td>0.0</td><td>0.0</td><td>0.0</td><td>0.0</td><td>0.0</td><td>0.0</td><td>0.0</td><td>0.0</td><td>0.0</td><td>0.0</td><td>0.0</td><td>0.0</td><td>0.0</td></tr><tr><td>&quot;mean&quot;</td><td>&quot;2024-07-01 12:00:00&quot;</td><td>82243.830601</td><td>14924.087432</td><td>2932.131148</td><td>206.300546</td><td>882.538251</td><td>15.983607</td><td>88511.467213</td><td>60.191257</td><td>10108.349727</td><td>2.579235</td><td>312.639344</td><td>590.284153</td><td>4009.330601</td><td>284.546448</td><td>89044.153005</td><td>484.877049</td><td>5212.691257</td><td>25.262295</td><td>448.904372</td><td>8979.101093</td><td>29941.095628</td><td>134964.92623</td><td>19.953976</td><td>1.718675</td><td>2.9114e6</td><td>230208.430383</td><td>100100.04918</td><td>2.505464</td><td>6.513661</td><td>15.756831</td><td>3.986339</td><td>0.284153</td></tr><tr><td>&quot;std&quot;</td><td>null</td><td>14160.573152</td><td>1357.339405</td><td>554.555287</td><td>51.234859</td><td>201.994378</td><td>7.71263</td><td>15153.596893</td><td>18.118832</td><td>1764.486159</td><td>1.735371</td><td>57.286839</td><td>67.926964</td><td>581.722188</td><td>73.626133</td><td>14677.21722</td><td>93.822121</td><td>689.092471</td><td>6.750509</td><td>92.056708</td><td>1715.760237</td><td>19693.567643</td><td>18723.833939</td><td>1.204506</td><td>0.100871</td><td>461524.764162</td><td>37862.395531</td><td>15371.426417</td><td>1.119551</td><td>3.455958</td><td>8.823592</td><td>2.006108</td><td>null</td></tr><tr><td>&quot;min&quot;</td><td>&quot;2024-01-01&quot;</td><td>34052.0</td><td>10244.0</td><td>1656.0</td><td>48.0</td><td>298.0</td><td>2.0</td><td>41757.0</td><td>23.0</td><td>4935.0</td><td>0.0</td><td>149.0</td><td>370.0</td><td>1831.0</td><td>122.0</td><td>41657.0</td><td>261.0</td><td>2827.0</td><td>9.0</td><td>192.0</td><td>3355.0</td><td>0.0</td><td>74199.0</td><td>16.676264</td><td>1.5</td><td>1.3260e6</td><td>107825.0</td><td>47391.0</td><td>1.0</td><td>1.0</td><td>1.0</td><td>1.0</td><td>0.0</td></tr><tr><td>&quot;25%&quot;</td><td>&quot;2024-04-01&quot;</td><td>72543.0</td><td>14109.0</td><td>2566.0</td><td>166.0</td><td>731.0</td><td>10.0</td><td>77350.0</td><td>46.0</td><td>8862.0</td><td>1.0</td><td>273.0</td><td>545.0</td><td>3682.0</td><td>236.0</td><td>78535.0</td><td>418.0</td><td>4773.0</td><td>20.0</td><td>390.0</td><td>7869.0</td><td>0.0</td><td>122222.0</td><td>19.125929</td><td>1.66</td><td>2.5818e6</td><td>203501.0</td><td>89573.0</td><td>2.0</td><td>4.0</td><td>8.0</td><td>2.0</td><td>null</td></tr><tr><td>&quot;50%&quot;</td><td>&quot;2024-07-02&quot;</td><td>83419.0</td><td>14966.0</td><td>2910.0</td><td>216.0</td><td>938.0</td><td>15.0</td><td>89891.0</td><td>59.0</td><td>10073.0</td><td>2.0</td><td>310.0</td><td>591.0</td><td>4009.0</td><td>275.0</td><td>90293.0</td><td>481.0</td><td>5252.0</td><td>25.0</td><td>444.0</td><td>9020.0</td><td>39515.0</td><td>134084.0</td><td>19.953055</td><td>1.7</td><td>2.9166e6</td><td>232825.0</td><td>100782.0</td><td>3.0</td><td>7.0</td><td>16.0</td><td>4.0</td><td>null</td></tr><tr><td>&quot;75%&quot;</td><td>&quot;2024-10-01&quot;</td><td>91739.0</td><td>15835.0</td><td>3271.0</td><td>243.0</td><td>1019.0</td><td>20.0</td><td>99602.0</td><td>70.0</td><td>11254.0</td><td>3.0</td><td>347.0</td><td>639.0</td><td>4378.0</td><td>335.0</td><td>99447.0</td><td>549.0</td><td>5703.0</td><td>30.0</td><td>515.0</td><td>10144.0</td><td>44782.0</td><td>147190.0</td><td>20.713722</td><td>1.77</td><td>3.2229e6</td><td>256942.0</td><td>110805.0</td><td>4.0</td><td>10.0</td><td>23.0</td><td>6.0</td><td>null</td></tr><tr><td>&quot;max&quot;</td><td>&quot;2024-12-31&quot;</td><td>120997.0</td><td>17994.0</td><td>4596.0</td><td>324.0</td><td>1674.0</td><td>47.0</td><td>128161.0</td><td>125.0</td><td>16177.0</td><td>8.0</td><td>505.0</td><td>801.0</td><td>6237.0</td><td>583.0</td><td>127687.0</td><td>716.0</td><td>6851.0</td><td>51.0</td><td>718.0</td><td>14904.0</td><td>56580.0</td><td>199442.0</td><td>24.447593</td><td>2.2</td><td>4.4645e6</td><td>330475.0</td><td>141702.0</td><td>4.0</td><td>12.0</td><td>31.0</td><td>7.0</td><td>1.0</td></tr></tbody></table></div>"
      ],
      "text/plain": [
       "shape: (9, 34)\n",
       "┌───────────┬───────────┬───────────┬───────────┬───┬──────────┬───────────┬───────────┬───────────┐\n",
       "│ statistic ┆ date      ┆ payment_t ┆ payment_t ┆ … ┆ month    ┆ day_of_mo ┆ day_of_we ┆ is_weeken │\n",
       "│ ---       ┆ ---       ┆ ype_card  ┆ ype_cash  ┆   ┆ ---      ┆ nth       ┆ ek        ┆ d         │\n",
       "│ str       ┆ str       ┆ ---       ┆ ---       ┆   ┆ f64      ┆ ---       ┆ ---       ┆ ---       │\n",
       "│           ┆           ┆ f64       ┆ f64       ┆   ┆          ┆ f64       ┆ f64       ┆ f64       │\n",
       "╞═══════════╪═══════════╪═══════════╪═══════════╪═══╪══════════╪═══════════╪═══════════╪═══════════╡\n",
       "│ count     ┆ 366       ┆ 366.0     ┆ 366.0     ┆ … ┆ 366.0    ┆ 366.0     ┆ 366.0     ┆ 366.0     │\n",
       "│ null_coun ┆ 0         ┆ 0.0       ┆ 0.0       ┆ … ┆ 0.0      ┆ 0.0       ┆ 0.0       ┆ 0.0       │\n",
       "│ t         ┆           ┆           ┆           ┆   ┆          ┆           ┆           ┆           │\n",
       "│ mean      ┆ 2024-07-0 ┆ 82243.830 ┆ 14924.087 ┆ … ┆ 6.513661 ┆ 15.756831 ┆ 3.986339  ┆ 0.284153  │\n",
       "│           ┆ 1         ┆ 601       ┆ 432       ┆   ┆          ┆           ┆           ┆           │\n",
       "│           ┆ 12:00:00  ┆           ┆           ┆   ┆          ┆           ┆           ┆           │\n",
       "│ std       ┆ null      ┆ 14160.573 ┆ 1357.3394 ┆ … ┆ 3.455958 ┆ 8.823592  ┆ 2.006108  ┆ null      │\n",
       "│           ┆           ┆ 152       ┆ 05        ┆   ┆          ┆           ┆           ┆           │\n",
       "│ min       ┆ 2024-01-0 ┆ 34052.0   ┆ 10244.0   ┆ … ┆ 1.0      ┆ 1.0       ┆ 1.0       ┆ 0.0       │\n",
       "│           ┆ 1         ┆           ┆           ┆   ┆          ┆           ┆           ┆           │\n",
       "│ 25%       ┆ 2024-04-0 ┆ 72543.0   ┆ 14109.0   ┆ … ┆ 4.0      ┆ 8.0       ┆ 2.0       ┆ null      │\n",
       "│           ┆ 1         ┆           ┆           ┆   ┆          ┆           ┆           ┆           │\n",
       "│ 50%       ┆ 2024-07-0 ┆ 83419.0   ┆ 14966.0   ┆ … ┆ 7.0      ┆ 16.0      ┆ 4.0       ┆ null      │\n",
       "│           ┆ 2         ┆           ┆           ┆   ┆          ┆           ┆           ┆           │\n",
       "│ 75%       ┆ 2024-10-0 ┆ 91739.0   ┆ 15835.0   ┆ … ┆ 10.0     ┆ 23.0      ┆ 6.0       ┆ null      │\n",
       "│           ┆ 1         ┆           ┆           ┆   ┆          ┆           ┆           ┆           │\n",
       "│ max       ┆ 2024-12-3 ┆ 120997.0  ┆ 17994.0   ┆ … ┆ 12.0     ┆ 31.0      ┆ 7.0       ┆ 1.0       │\n",
       "│           ┆ 1         ┆           ┆           ┆   ┆          ┆           ┆           ┆           │\n",
       "└───────────┴───────────┴───────────┴───────────┴───┴──────────┴───────────┴───────────┴───────────┘"
      ]
     },
     "execution_count": 19,
     "metadata": {},
     "output_type": "execute_result"
    }
   ],
   "source": [
    "df.describe()"
   ]
  },
  {
   "cell_type": "code",
   "execution_count": 20,
   "id": "363c00d2",
   "metadata": {},
   "outputs": [
    {
     "data": {
      "text/plain": [
       "Schema([('date', Date),\n",
       "        ('payment_type_card', Int64),\n",
       "        ('payment_type_cash', Int64),\n",
       "        ('payment_type_other', Int64),\n",
       "        ('PUBorough_Bronx', Int64),\n",
       "        ('PUBorough_Brooklyn', Int64),\n",
       "        ('PUBorough_EWR', Int64),\n",
       "        ('PUBorough_Manhattan', Int64),\n",
       "        ('PUBorough_N/A', Int64),\n",
       "        ('PUBorough_Queens', Int64),\n",
       "        ('PUBorough_Staten Island', Int64),\n",
       "        ('PUBorough_Unknown', Int64),\n",
       "        ('DOBorough_Bronx', Int64),\n",
       "        ('DOBorough_Brooklyn', Int64),\n",
       "        ('DOBorough_EWR', Int64),\n",
       "        ('DOBorough_Manhattan', Int64),\n",
       "        ('DOBorough_N/A', Int64),\n",
       "        ('DOBorough_Queens', Int64),\n",
       "        ('DOBorough_Staten Island', Int64),\n",
       "        ('DOBorough_Unknown', Int64),\n",
       "        ('airport_ride_count', UInt32),\n",
       "        ('rush_hour_ride_count', UInt32),\n",
       "        ('total_passenger_count', Int64),\n",
       "        ('mean_fare_amount', Float64),\n",
       "        ('median_trip_distance', Float64),\n",
       "        ('total_amount', Float64),\n",
       "        ('congestion_surcharge', Float64),\n",
       "        ('total_rides', UInt32),\n",
       "        ('quarter', Int8),\n",
       "        ('month', Int8),\n",
       "        ('day_of_month', Int8),\n",
       "        ('day_of_week', Int8),\n",
       "        ('is_weekend', Boolean)])"
      ]
     },
     "execution_count": 20,
     "metadata": {},
     "output_type": "execute_result"
    }
   ],
   "source": [
    "df.schema"
   ]
  },
  {
   "cell_type": "code",
   "execution_count": 21,
   "id": "536b975d",
   "metadata": {},
   "outputs": [
    {
     "data": {
      "text/plain": [
       "<Axes: ylabel='Frequency'>"
      ]
     },
     "execution_count": 21,
     "metadata": {},
     "output_type": "execute_result"
    },
    {
     "data": {
      "image/png": "[encoded data removed]",
      "text/plain": [
       "<Figure size 640x480 with 1 Axes>"
      ]
     },
     "metadata": {},
     "output_type": "display_data"
    }
   ],
   "source": [
    "(\n",
    "    df.select(\"total_rides\")\n",
    "    .to_pandas()\n",
    "    .plot.hist(bins=100)\n",
    ")"
   ]
  },
  {
   "cell_type": "code",
   "execution_count": 22,
   "id": "afc8e5ca",
   "metadata": {},
   "outputs": [
    {
     "data": {
      "text/plain": [
       "<Axes: xlabel='date'>"
      ]
     },
     "execution_count": 22,
     "metadata": {},
     "output_type": "execute_result"
    },
    {
     "data": {
      "image/png": "[encoded data removed]",
      "text/plain": [
       "<Figure size 640x480 with 1 Axes>"
      ]
     },
     "metadata": {},
     "output_type": "display_data"
    }
   ],
   "source": [
    "(\n",
    "    df\n",
    "    .select(\"date\", \"total_rides\")\n",
    "    .sort(by=\"date\")\n",
    "    .to_pandas()\n",
    "    .plot(x=\"date\", y=\"total_rides\")\n",
    ")"
   ]
  }
 ],
 "metadata": {
  "kernelspec": {
   "display_name": "mlops-course-agh-lab-03 (3.12.8)",
   "language": "python",
   "name": "python3"
  },
  "language_info": {
   "codemirror_mode": {
    "name": "ipython",
    "version": 3
   },
   "file_extension": ".py",
   "mimetype": "text/x-python",
   "name": "python",
   "nbconvert_exporter": "python",
   "pygments_lexer": "ipython3",
   "version": "3.12.8"
  }
 },
 "nbformat": 4,
 "nbformat_minor": 5
}
